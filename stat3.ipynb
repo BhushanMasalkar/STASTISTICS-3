{
 "cells": [
  {
   "cell_type": "code",
   "execution_count": 10,
   "metadata": {},
   "outputs": [
    {
     "name": "stdout",
     "output_type": "stream",
     "text": [
      "Z value is : 3.2\n",
      "z- table and p-value associated with 3.20 is 0.9993\n",
      "probability of having value less than 108 is 0.9993 and more than or equals to 108 is(1-0.9993)=0.0007\n",
      "probability is less than 0.05 so reject the Null hypothesis i.e. there is raw cornstarch effect.\n"
     ]
    }
   ],
   "source": [
    "#Question:-1\n",
    "import math\n",
    "μ= 100\n",
    "z= (108-100)/(15/(math.sqrt(36)))\n",
    "print(\"Z value is : \"+str(z))\n",
    "print(\"z- table and p-value associated with 3.20 is 0.9993\")\n",
    "print(\"probability of having value less than 108 is 0.9993 and more than or equals to 108 is(1-0.9993)=0.0007\")\n",
    "print(\"probability is less than 0.05 so reject the Null hypothesis i.e. there is raw cornstarch effect.\")"
   ]
  },
  {
   "cell_type": "code",
   "execution_count": 11,
   "metadata": {},
   "outputs": [
    {
     "name": "stdout",
     "output_type": "stream",
     "text": [
      "-0.7080278164104213\n"
     ]
    }
   ],
   "source": [
    "#Question:-2\n",
    "p1=0.52\n",
    "p2=0.47\n",
    "E=p1-p2\n",
    "n1=100\n",
    "n2=100\n",
    "sigma = math.sqrt((p1*(1-p1))/n1+(p2*(1-p2))/n2)\n",
    "z= (0-E) /sigma\n",
    "print(z)\n",
    "#Using Stat Trek's Normal Distribution Calculator, we find that the probability of a z-score being -0.7082 or less is 0.24."
   ]
  },
  {
   "cell_type": "code",
   "execution_count": 6,
   "metadata": {},
   "outputs": [
    {
     "name": "stdout",
     "output_type": "stream",
     "text": [
      "The probability that the survey will show a greater percentage of \n",
      "        Republican voters in the second state than in the first state is 0.24.\n"
     ]
    }
   ],
   "source": [
    "print(\"\"\"The probability that the survey will show a greater percentage of \n",
    "        Republican voters in the second state than in the first state is 0.24.\"\"\")"
   ]
  },
  {
   "cell_type": "code",
   "execution_count": 13,
   "metadata": {},
   "outputs": [
    {
     "name": "stdout",
     "output_type": "stream",
     "text": [
      "A z-score of 0.35 is .1368 + .5000* = .6368 or 63.68%.\n",
      "63.68%\n"
     ]
    }
   ],
   "source": [
    "#Question:-3\n",
    "a= 1100\n",
    "b= 1026\n",
    "sd= 209\n",
    "c= (a-b)/sd\n",
    "print(\"A z-score of \"+str(round(c,2)) + \" is .1368 + .5000* = .6368 or 63.68%.\")\n",
    "print(\"63.68%\")"
   ]
  },
  {
   "cell_type": "code",
   "execution_count": null,
   "metadata": {},
   "outputs": [],
   "source": []
  }
 ],
 "metadata": {
  "kernelspec": {
   "display_name": "Python 3",
   "language": "python",
   "name": "python3"
  },
  "language_info": {
   "codemirror_mode": {
    "name": "ipython",
    "version": 3
   },
   "file_extension": ".py",
   "mimetype": "text/x-python",
   "name": "python",
   "nbconvert_exporter": "python",
   "pygments_lexer": "ipython3",
   "version": "3.6.5"
  },
  "varInspector": {
   "cols": {
    "lenName": 16,
    "lenType": 16,
    "lenVar": 40
   },
   "kernels_config": {
    "python": {
     "delete_cmd_postfix": "",
     "delete_cmd_prefix": "del ",
     "library": "var_list.py",
     "varRefreshCmd": "print(var_dic_list())"
    },
    "r": {
     "delete_cmd_postfix": ") ",
     "delete_cmd_prefix": "rm(",
     "library": "var_list.r",
     "varRefreshCmd": "cat(var_dic_list()) "
    }
   },
   "types_to_exclude": [
    "module",
    "function",
    "builtin_function_or_method",
    "instance",
    "_Feature"
   ],
   "window_display": false
  }
 },
 "nbformat": 4,
 "nbformat_minor": 2
}
